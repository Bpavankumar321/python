{
 "cells": [
  {
   "cell_type": "markdown",
   "metadata": {},
   "source": [
    "\n",
    "                                       # DATA TYPES #\n",
    "                                       "
   ]
  },
  {
   "cell_type": "code",
   "execution_count": null,
   "metadata": {},
   "outputs": [],
   "source": [
    "                                        # type() function #"
   ]
  },
  {
   "cell_type": "code",
   "execution_count": 1,
   "metadata": {},
   "outputs": [
    {
     "name": "stdout",
     "output_type": "stream",
     "text": [
      "<class 'int'>\n",
      "10\n"
     ]
    }
   ],
   "source": [
    "\n",
    "                               #  INTEGER  #\n",
    "    \n",
    "a=10               # a IS A INT OBJECT\n",
    "print(type(a))     # < CLASS 'INT'\n",
    "print(a)           # 10"
   ]
  },
  {
   "cell_type": "code",
   "execution_count": 2,
   "metadata": {},
   "outputs": [
    {
     "name": "stdout",
     "output_type": "stream",
     "text": [
      "<class 'float'>\n",
      "10.11\n"
     ]
    }
   ],
   "source": [
    "\n",
    "                                # FLOAT #\n",
    "    \n",
    "a=10.11\n",
    "print(type(a))\n",
    "print(a)"
   ]
  },
  {
   "cell_type": "code",
   "execution_count": 3,
   "metadata": {},
   "outputs": [
    {
     "name": "stdout",
     "output_type": "stream",
     "text": [
      "<class 'str'>\n",
      "PYTHON\n"
     ]
    }
   ],
   "source": [
    "\n",
    "                                # STRING #\n",
    "    \n",
    "a=\"PYTHON\"\n",
    "print(type(a))\n",
    "print(a)\n",
    "    \n",
    "    \n",
    "    "
   ]
  },
  {
   "cell_type": "code",
   "execution_count": 4,
   "metadata": {},
   "outputs": [
    {
     "name": "stdout",
     "output_type": "stream",
     "text": [
      "<class 'list'>\n",
      "[1, 2, 3, 4]\n"
     ]
    }
   ],
   "source": [
    "\n",
    "                                # LIST #\n",
    "    \n",
    "a=[1,2,3,4]\n",
    "print(type(a))\n",
    "print(a)"
   ]
  },
  {
   "cell_type": "code",
   "execution_count": 5,
   "metadata": {},
   "outputs": [
    {
     "name": "stdout",
     "output_type": "stream",
     "text": [
      "<class 'tuple'>\n",
      "(1, 2, 3, 4)\n"
     ]
    }
   ],
   "source": [
    "\n",
    "                                # TUPLE #\n",
    "    \n",
    "a=(1,2,3,4)\n",
    "print(type(a))\n",
    "print(a)"
   ]
  },
  {
   "cell_type": "code",
   "execution_count": 6,
   "metadata": {},
   "outputs": [
    {
     "name": "stdout",
     "output_type": "stream",
     "text": [
      "<class 'set'>\n",
      "{1, 2, 3, 4}\n"
     ]
    }
   ],
   "source": [
    "\n",
    "                                # SET #\n",
    "    \n",
    "a={1,2,3,4}\n",
    "print(type(a))\n",
    "print(a)"
   ]
  },
  {
   "cell_type": "code",
   "execution_count": 7,
   "metadata": {},
   "outputs": [
    {
     "name": "stdout",
     "output_type": "stream",
     "text": [
      "<class 'dict'>\n",
      "{1: 'PY', 2: 'TH', 3: 'ON'}\n"
     ]
    }
   ],
   "source": [
    "\n",
    "\n",
    "                                # DICTONARY #\n",
    "    \n",
    "a={1:\"PY\",2:\"TH\",3:\"ON\"}\n",
    "print(type(a))\n",
    "print(a)"
   ]
  },
  {
   "cell_type": "code",
   "execution_count": null,
   "metadata": {},
   "outputs": [],
   "source": []
  },
  {
   "cell_type": "code",
   "execution_count": null,
   "metadata": {},
   "outputs": [],
   "source": []
  },
  {
   "cell_type": "code",
   "execution_count": 9,
   "metadata": {},
   "outputs": [],
   "source": [
    "                                    # format() function #"
   ]
  },
  {
   "cell_type": "code",
   "execution_count": 1,
   "metadata": {},
   "outputs": [
    {
     "name": "stdout",
     "output_type": "stream",
     "text": [
      "24\n",
      "24\n",
      "        24\n",
      "    24    \n",
      "24        \n",
      "24.000000\n",
      "24.0000\n",
      "24.0\n",
      "24.123344566\n",
      "24.123345\n",
      "24.123\n",
      "24.1\n",
      "    24.123344566    \n",
      "PYTHON\n",
      "PYTHON\n",
      "PY\n",
      "PYTH\n",
      "              PYTHON\n",
      "       PYTHON       \n",
      "PYTHON              \n"
     ]
    }
   ],
   "source": [
    "\n",
    "print(format(24))\n",
    "print(format(24,\"d\"))              # d    - digit, interger\n",
    "print(format(24,'>10'))            # >10  - right alignment display from 9th (9 to 10)\n",
    "print(format(24,'^10'))            # ^10  - center alignment middle of 10 spaces (5 to 6)\n",
    "print(format(24,'<10'))            # <10  - left alignment start from 1 (1 to 2)\n",
    "\n",
    "print(format(24,\"f\"))              # f    - float\n",
    "print(format(24,\".4f\"))            # .4f  - 4 float values\n",
    "print(format(24,\".1f\"))\n",
    "print(format(24.123344566))        # taking total decimals \n",
    "print(format(24.123344566,\"f\"))    # f    - float by dyfault taking 6 decimals\n",
    "print(format(24.123344566,\".3f\"))  # .3f  - 3 float values \n",
    "print(format(24.123344566,\".1f\"))  # .1f  - 1 float values\n",
    "print(format(24.123344566,'^20'))  # center alignment middle of 20 spaces (5 to 16)\n",
    "\n",
    "\n",
    "print(format(\"PYTHON\"))            # string\n",
    "print(format(\"PYTHON\",'s'))        # s    - string\n",
    "print(format(\"PYTHON\",'.2s'))      # .2s  - 2 string characters\n",
    "print(format(\"PYTHON\",'.4s'))      # .4s  - 4 string characters\n",
    "print(format(\"PYTHON\",'>20'))      # >    - right alignment\n",
    "print(format(\"PYTHON\",'^20'))      # ^    - center alignment\n",
    "print(format(\"PYTHON\",'<20'))      # <    - left alignment"
   ]
  },
  {
   "cell_type": "code",
   "execution_count": null,
   "metadata": {},
   "outputs": [],
   "source": []
  },
  {
   "cell_type": "code",
   "execution_count": null,
   "metadata": {},
   "outputs": [],
   "source": []
  },
  {
   "cell_type": "code",
   "execution_count": 1,
   "metadata": {},
   "outputs": [],
   "source": [
    "\n",
    "                                    # SWAP VARIBLES #\n",
    "    "
   ]
  },
  {
   "cell_type": "code",
   "execution_count": 5,
   "metadata": {},
   "outputs": [
    {
     "name": "stdout",
     "output_type": "stream",
     "text": [
      "10 20\n",
      "20 10\n",
      "😂 😊\n",
      "😊 😂\n",
      "40 50 60\n",
      "60 40 50\n",
      "50 60 40\n",
      "10 20 30\n",
      "10 20 30\n",
      "100 100 100\n",
      "100 100 100\n"
     ]
    }
   ],
   "source": [
    "a=10;b=20\n",
    "print(a,b)\n",
    "a,b=b,a\n",
    "print(a,b)\n",
    "\n",
    "\n",
    "a=\"😂\"\n",
    "b=\"😊\"\n",
    "print(a,b)\n",
    "a,b=b,a\n",
    "print(a,b)\n",
    "\n",
    "\n",
    "x,y,z=40,50,60\n",
    "print(x,y,z)\n",
    "x,y,z=z,x,y\n",
    "print(x,y,z)\n",
    "x,y,z=z,x,y\n",
    "print(x,y,z)\n",
    " \n",
    "    \n",
    "a=10;b=20;c=30\n",
    "print(a,b,c)\n",
    "a,b,c=b,c,a\n",
    "a,b,c=b,c,a\n",
    "a,b,c=b,c,a\n",
    "print(a,b,c)\n",
    "\n",
    "x=y=z=100\n",
    "print(x,y,z)\n",
    "x,y,z=z,x,y\n",
    "print(x,y,z)"
   ]
  },
  {
   "cell_type": "code",
   "execution_count": null,
   "metadata": {},
   "outputs": [],
   "source": []
  },
  {
   "cell_type": "code",
   "execution_count": null,
   "metadata": {},
   "outputs": [],
   "source": []
  },
  {
   "cell_type": "code",
   "execution_count": 6,
   "metadata": {},
   "outputs": [],
   "source": [
    "\n",
    "                                    # del keyword #\n",
    "    "
   ]
  },
  {
   "cell_type": "code",
   "execution_count": 7,
   "metadata": {},
   "outputs": [
    {
     "name": "stdout",
     "output_type": "stream",
     "text": [
      "20\n",
      "100\n",
      "100\n",
      "100\n",
      "200\n",
      "200\n",
      "200\n",
      "[1, 2, 3, 4, 5]\n",
      "(1, 2, 3, 4, 5)\n",
      "{8, 9, 6, 7}\n",
      "{1: 'py', 2: 'th'}\n",
      "kiranmai\n"
     ]
    }
   ],
   "source": [
    "a=20\n",
    "print(a)\n",
    "del a\n",
    "\n",
    "a=b=c=100\n",
    "print(a)\n",
    "del a\n",
    "print(b)\n",
    "del b\n",
    "print(c)\n",
    "del c\n",
    "\n",
    "a=b=c=200\n",
    "print(a)\n",
    "print(b)\n",
    "print(c)\n",
    "del a,b,c\n",
    "#print(a)\n",
    "\n",
    "x=[1,2,3,4,5]\n",
    "print(x)\n",
    "del x\n",
    "\n",
    "y=(1,2,3,4,5)\n",
    "print(y)\n",
    "del y\n",
    "\n",
    "z={6,7,8,9}\n",
    "print(z)\n",
    "del z\n",
    "\n",
    "d={1:\"py\",2:\"th\"}\n",
    "print(d)\n",
    "del d\n",
    "\n",
    "a=\"kiranmai\"\n",
    "print(a)\n",
    "del a"
   ]
  },
  {
   "cell_type": "code",
   "execution_count": null,
   "metadata": {},
   "outputs": [],
   "source": []
  },
  {
   "cell_type": "code",
   "execution_count": null,
   "metadata": {},
   "outputs": [],
   "source": []
  },
  {
   "cell_type": "code",
   "execution_count": 8,
   "metadata": {},
   "outputs": [],
   "source": [
    "\n",
    "                                # Mnemonical variable names #\n",
    "    "
   ]
  },
  {
   "cell_type": "code",
   "execution_count": 1,
   "metadata": {},
   "outputs": [
    {
     "name": "stdout",
     "output_type": "stream",
     "text": [
      "300\n"
     ]
    }
   ],
   "source": [
    "abcd1232zzz=100\n",
    "abcd1234xxx=200\n",
    "abcd1111yyy=abcd1232zzz+abcd1234xxx\n",
    "print(abcd1111yyy)"
   ]
  },
  {
   "cell_type": "code",
   "execution_count": null,
   "metadata": {},
   "outputs": [],
   "source": []
  },
  {
   "cell_type": "code",
   "execution_count": null,
   "metadata": {},
   "outputs": [],
   "source": []
  },
  {
   "cell_type": "code",
   "execution_count": 2,
   "metadata": {},
   "outputs": [],
   "source": [
    "\n",
    "                 # Writting numbers in binary, octal and hexadecimal #\n",
    "    "
   ]
  },
  {
   "cell_type": "code",
   "execution_count": 3,
   "metadata": {},
   "outputs": [
    {
     "name": "stdout",
     "output_type": "stream",
     "text": [
      "0b1010\n",
      "0b101000011\n",
      "0b1\n",
      "0o12\n",
      "0o515\n",
      "0o3\n",
      "0x14\n",
      "0x1c5\n",
      "0xb\n",
      "10\n",
      "323\n",
      "1\n",
      "10\n",
      "333\n",
      "3\n",
      "20\n",
      "453\n",
      "11\n",
      "171\n",
      "703710\n"
     ]
    }
   ],
   "source": [
    "a=10\n",
    "print(bin(a))\n",
    "\n",
    "b=323\n",
    "print(bin(b))\n",
    "\n",
    "c=1\n",
    "print(bin(c))\n",
    "\n",
    "d=10\n",
    "print(oct(d))\n",
    "\n",
    "e=333\n",
    "print(oct(e))\n",
    "\n",
    "f=3\n",
    "print(oct(f))\n",
    "\n",
    "g=20\n",
    "print(hex(g))\n",
    "\n",
    "h=453\n",
    "print(hex(h))\n",
    "\n",
    "j=11\n",
    "print(hex(j))\n",
    "\n",
    "\n",
    "a=0b1010\n",
    "b=0b101000011\n",
    "c=0b1\n",
    "d=0o12\n",
    "e=0o515\n",
    "f=0o3\n",
    "g=0x14\n",
    "h=0x1c5\n",
    "j=0xb\n",
    "\n",
    "print(a)\n",
    "print(b)\n",
    "print(c)\n",
    "print(d)\n",
    "print(e)\n",
    "print(f)\n",
    "print(g)\n",
    "print(h)\n",
    "print(j)\n",
    "\n",
    "p=0xab\n",
    "print(p)\n",
    "\n",
    "# a=10,b=11\n",
    "# a for 16**1=16,b for 16**0=1\n",
    "# 16*10+1*11=171\n",
    "\n",
    "b=0xabcde\n",
    "print(b)\n",
    "\n",
    "# a=10, b=11, c=12, d=13, e=14\n",
    "# a degree 16**4 , b degree 16**3 , c degree 16**2 , d degeree 16**1, e degree 16**0\n",
    "# 65536*10+4096*11+256*12+16*13+1*14=703710\n",
    "\n"
   ]
  },
  {
   "cell_type": "code",
   "execution_count": null,
   "metadata": {},
   "outputs": [],
   "source": []
  },
  {
   "cell_type": "code",
   "execution_count": null,
   "metadata": {},
   "outputs": [],
   "source": []
  },
  {
   "cell_type": "code",
   "execution_count": 4,
   "metadata": {},
   "outputs": [],
   "source": [
    "\n",
    "                                    # None Data Type #\n",
    "    "
   ]
  },
  {
   "cell_type": "code",
   "execution_count": 5,
   "metadata": {},
   "outputs": [
    {
     "name": "stdout",
     "output_type": "stream",
     "text": [
      "None\n",
      "<class 'NoneType'>\n"
     ]
    }
   ],
   "source": [
    "a=None\n",
    "print(a)\n",
    "print(type(a))"
   ]
  }
 ],
 "metadata": {
  "kernelspec": {
   "display_name": "Python 3",
   "language": "python",
   "name": "python3"
  },
  "language_info": {
   "codemirror_mode": {
    "name": "ipython",
    "version": 3
   },
   "file_extension": ".py",
   "mimetype": "text/x-python",
   "name": "python",
   "nbconvert_exporter": "python",
   "pygments_lexer": "ipython3",
   "version": "3.8.5"
  }
 },
 "nbformat": 4,
 "nbformat_minor": 4
}
