{
 "cells": [
  {
   "cell_type": "code",
   "execution_count": 8,
   "metadata": {},
   "outputs": [
    {
     "name": "stdout",
     "output_type": "stream",
     "text": [
      "0b1010\n",
      "0b10100\n",
      "0b0\n",
      "0b11110\n",
      "0b110010\n",
      "0b0\n",
      "0o527\n",
      "0o17271\n",
      "0o21\n",
      "0x157\n",
      "0x1eb9\n",
      "0x11\n"
     ]
    }
   ],
   "source": [
    "\n",
    "               #Bitwise operators\n",
    "                \n",
    "               # bitwise & operator \n",
    "a=10\n",
    "b=20\n",
    "print(bin(a))\n",
    "print(bin(b))\n",
    "print(bin(a&b))\n",
    "\n",
    "print(bin(30))\n",
    "print(bin(50))\n",
    "print(bin(10&20))\n",
    "\n",
    "c=343\n",
    "d=7865\n",
    "print(oct(c))\n",
    "print(oct(d))\n",
    "print(oct(c&d))\n",
    "\n",
    "print(hex(c))\n",
    "print(hex(d))\n",
    "print(hex(c&d))"
   ]
  },
  {
   "cell_type": "code",
   "execution_count": 15,
   "metadata": {},
   "outputs": [
    {
     "name": "stdout",
     "output_type": "stream",
     "text": [
      "0b110010\n",
      "0b1011001\n",
      "0b111000101\n",
      "0o705\n",
      "0o36146\n",
      "0x3c66\n",
      "20\n",
      "50\n",
      "89\n",
      "453\n",
      "453\n",
      "15462\n",
      "15462\n"
     ]
    }
   ],
   "source": [
    "c=50\n",
    "print(bin(c))\n",
    "print(bin(89))\n",
    "print(bin(453))\n",
    "print(oct(453))\n",
    "print(oct(15462))\n",
    "print(hex(15462))\n",
    "\n",
    "print(0b10100)\n",
    "print(0b110010)\n",
    "print(0b1011001)\n",
    "print(0b111000101)\n",
    "print(0o705)\n",
    "print(0o36146)\n",
    "print(0x3c66)"
   ]
  },
  {
   "cell_type": "code",
   "execution_count": 16,
   "metadata": {},
   "outputs": [
    {
     "name": "stdout",
     "output_type": "stream",
     "text": [
      "0b101110\n",
      "0b11110\n",
      "62\n",
      "0b11110\n",
      "0b110010\n",
      "0b11110\n",
      "0o527\n",
      "0o17271\n",
      "0o17777\n",
      "0x157\n",
      "0x1eb9\n",
      "0x1fff\n"
     ]
    }
   ],
   "source": [
    "              #Bitwise or operator\n",
    "\n",
    "    \n",
    "x=46\n",
    "y=30\n",
    "print(bin(x))\n",
    "print(bin(y))\n",
    "print(x|y)\n",
    "\n",
    "\n",
    "print(bin(30))\n",
    "print(bin(50))\n",
    "print(bin(10|20))\n",
    "\n",
    "c=343\n",
    "d=7865\n",
    "print(oct(c))\n",
    "print(oct(d))\n",
    "print(oct(c|d))\n",
    "\n",
    "print(hex(c))\n",
    "print(hex(d))\n",
    "print(hex(c|d))"
   ]
  },
  {
   "cell_type": "code",
   "execution_count": null,
   "metadata": {},
   "outputs": [],
   "source": []
  }
 ],
 "metadata": {
  "kernelspec": {
   "display_name": "Python 3",
   "language": "python",
   "name": "python3"
  },
  "language_info": {
   "codemirror_mode": {
    "name": "ipython",
    "version": 3
   },
   "file_extension": ".py",
   "mimetype": "text/x-python",
   "name": "python",
   "nbconvert_exporter": "python",
   "pygments_lexer": "ipython3",
   "version": "3.8.5"
  }
 },
 "nbformat": 4,
 "nbformat_minor": 4
}
